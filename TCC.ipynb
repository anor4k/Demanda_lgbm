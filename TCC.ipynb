{
 "cells": [
  {
   "cell_type": "markdown",
   "id": "b6c8f04b-3984-405c-97dd-26276751b889",
   "metadata": {},
   "source": [
    "# TCC - Previsão de vendas usando LightGBM"
   ]
  },
  {
   "cell_type": "code",
   "execution_count": null,
   "id": "cc67457b-cc3d-4de1-ba66-af5fd7e0726e",
   "metadata": {},
   "outputs": [],
   "source": [
    "## Parameters\n",
    "\n",
    "lags = list(range(1, 8)) + [14, 21, 28]\n",
    "windows = [7, 30]\n",
    "\n",
    "\n",
    "index = ['id', 'd', 'date']\n",
    "\n",
    "categorical_features = [\n",
    "    'wday',\n",
    "    'month'\n",
    "]\n",
    "\n",
    "string_features = [\n",
    "    'cat_id',\n",
    "    'dept_id',\n",
    "    'item_id',\n",
    "    'state_id',\n",
    "    'store_id',\n",
    "    'year'\n",
    "]\n",
    "\n",
    "indexed_features = [f + '_index' for f in string_features]\n",
    "\n",
    "numerical_features = [\n",
    "    'sell_price',\n",
    "    *[f'sales_lag_{d}' for d in lags],\n",
    "    *[f'sales_lag_sum_{d}' for d in windows],\n",
    "    *[f'sales_lag_mean_{d}' for d in windows]\n",
    "]\n",
    "\n",
    "features = indexed_features + categorical_features + numerical_features\n",
    "\n",
    "target = ['sales']\n",
    "\n",
    "output_cols = index + features + target"
   ]
  },
  {
   "cell_type": "markdown",
   "id": "bad82c8b-9fcf-417d-a2cb-e784d00af3aa",
   "metadata": {},
   "source": [
    "## Read and join data"
   ]
  },
  {
   "cell_type": "code",
   "execution_count": null,
   "id": "a2cb8c31-1d4c-4fa7-bc3c-c880706015a8",
   "metadata": {},
   "outputs": [],
   "source": [
    "import os\n",
    "import pandas as pd\n",
    "from pathlib import Path\n",
    "\n",
    "pd.set_option('display.max_columns', None)"
   ]
  },
  {
   "cell_type": "code",
   "execution_count": null,
   "id": "0e0e99d9-23a7-4bf3-a103-148c803c3e4d",
   "metadata": {},
   "outputs": [],
   "source": [
    "from pyspark.sql.context import SparkSession\n",
    "from pyspark.sql import functions as f\n",
    "from pyspark.sql.window import Window as w\n",
    "\n",
    "spark = (\n",
    "    SparkSession.builder\n",
    "    .config(\"spark.driver.memory\", \"16g\")\n",
    "    .config(\"spark.driver.cores\", \"16\")\n",
    "    .config(\"spark.driver.maxResultSize\", \"0\")\n",
    "    .config('spark.sql.execution.arrow.pyspark.enabled', 'true')\n",
    "    .getOrCreate()\n",
    ")\n",
    "\n",
    "import pyspark.pandas as ps\n",
    "ps.set_option('compute.ops_on_diff_frames', True)"
   ]
  },
  {
   "cell_type": "code",
   "execution_count": null,
   "id": "5e2bdcb1-19d5-4f54-95fb-c402cd8e1af2",
   "metadata": {},
   "outputs": [],
   "source": [
    "src_path = Path('../source_data/')\n",
    "\n",
    "calendar = ps.read_csv(str(src_path / 'calendar.csv'))\n",
    "prices = ps.read_csv(str(src_path / 'sell_prices.csv'))\n",
    "train = ps.read_csv(str(src_path / 'sales_train_validation.csv'))"
   ]
  },
  {
   "cell_type": "code",
   "execution_count": null,
   "id": "19e40ce3-bb57-48c5-8482-7f08d9b52dfe",
   "metadata": {},
   "outputs": [],
   "source": [
    "calendar.head()"
   ]
  },
  {
   "cell_type": "code",
   "execution_count": null,
   "id": "27cfe8c3-7783-4bc5-bffb-366f14fcc8c4",
   "metadata": {},
   "outputs": [],
   "source": [
    "prices.head()"
   ]
  },
  {
   "cell_type": "code",
   "execution_count": null,
   "id": "45fb7541-2af7-4f24-bcc5-92da73f99a57",
   "metadata": {},
   "outputs": [],
   "source": [
    "train.head()"
   ]
  },
  {
   "cell_type": "code",
   "execution_count": null,
   "id": "b330b9b7-4076-4b2e-9fb9-8efb248ff5d8",
   "metadata": {},
   "outputs": [],
   "source": [
    "len(train)"
   ]
  },
  {
   "cell_type": "code",
   "execution_count": null,
   "id": "53c57f5b-1d2a-4a18-aa14-3a5218ad8c87",
   "metadata": {},
   "outputs": [],
   "source": [
    "df = (\n",
    "    train\n",
    "    .melt(id_vars=['id', 'item_id', 'dept_id', 'cat_id', 'store_id', 'state_id'], var_name='d', value_name='sales')\n",
    "    .spark.repartition(64)\n",
    "    .merge(calendar, on='d')\n",
    "    .merge(prices, on=['store_id', 'item_id', 'wm_yr_wk'], how='left')\n",
    "    .sort_values(['state_id', 'store_id', 'dept_id', 'cat_id', 'item_id', 'date', 'id'])\n",
    ")"
   ]
  },
  {
   "cell_type": "code",
   "execution_count": null,
   "id": "de98d515-5336-4f69-8f6a-c8f19e6f5b62",
   "metadata": {},
   "outputs": [],
   "source": [
    "df.to_parquet('data_joined')"
   ]
  },
  {
   "cell_type": "code",
   "execution_count": null,
   "id": "3ce73eab-1e7e-4430-b68b-e5bc33296034",
   "metadata": {},
   "outputs": [],
   "source": []
  },
  {
   "cell_type": "markdown",
   "id": "fec87903-0e0f-401e-b0ab-42b1b475e30e",
   "metadata": {},
   "source": [
    "## Prepare features"
   ]
  },
  {
   "cell_type": "code",
   "execution_count": null,
   "id": "d15024a3-25f0-4654-9a08-1702ada6d2d5",
   "metadata": {},
   "outputs": [],
   "source": [
    "from pyspark.ml.feature import StringIndexer"
   ]
  },
  {
   "cell_type": "code",
   "execution_count": null,
   "id": "d6076f9d-526a-40ab-a089-115b29dbcbc8",
   "metadata": {},
   "outputs": [],
   "source": [
    "df = spark.read.parquet('data_joined')"
   ]
  },
  {
   "cell_type": "markdown",
   "id": "a56ea46b-c6ad-47db-b148-459f09c233ed",
   "metadata": {},
   "source": [
    "### Fill missing prices"
   ]
  },
  {
   "cell_type": "code",
   "execution_count": null,
   "id": "b7fab3e1-ec55-4d60-a792-7c1ee118d23f",
   "metadata": {},
   "outputs": [],
   "source": [
    "from pyspark.sql.window import Window as w"
   ]
  },
  {
   "cell_type": "code",
   "execution_count": null,
   "id": "fe5fc585-60c4-4ac0-833a-f8e83c5ae165",
   "metadata": {},
   "outputs": [],
   "source": [
    "df.limit(5).toPandas()"
   ]
  },
  {
   "cell_type": "code",
   "execution_count": null,
   "id": "48bd0ccb-447c-4370-9c8c-8ff8d05154e1",
   "metadata": {},
   "outputs": [],
   "source": [
    "window_price = w.partitionBy('store_id', 'item_id').orderBy('date')"
   ]
  },
  {
   "cell_type": "code",
   "execution_count": null,
   "id": "6eb7f250-aa76-41f7-b146-ff6268133418",
   "metadata": {},
   "outputs": [],
   "source": [
    "df = df.withColumn('sell_price', f.last('sell_price', ignorenulls=True).over(window_price))"
   ]
  },
  {
   "cell_type": "markdown",
   "id": "0e1963a0-e578-4216-84b2-33f4b9cd5b0f",
   "metadata": {
    "tags": []
   },
   "source": [
    "### Encode string features"
   ]
  },
  {
   "cell_type": "code",
   "execution_count": null,
   "id": "79ec5dfc-cba6-4a71-8d59-2fad60d27309",
   "metadata": {},
   "outputs": [],
   "source": [
    "indexer = StringIndexer(inputCols=string_features, outputCols=indexed_features, handleInvalid='keep')"
   ]
  },
  {
   "cell_type": "code",
   "execution_count": null,
   "id": "1bcd9f27-5ce1-4a19-8ebd-3e747424da40",
   "metadata": {},
   "outputs": [],
   "source": [
    "df = indexer.fit(df).transform(df)"
   ]
  },
  {
   "cell_type": "markdown",
   "id": "c252b6f7-ab53-4ec9-851e-8be3d25e83ed",
   "metadata": {},
   "source": [
    "### Create lags"
   ]
  },
  {
   "cell_type": "code",
   "execution_count": null,
   "id": "27434d77-4e03-4899-84f0-2f3cd7e1ccc1",
   "metadata": {},
   "outputs": [],
   "source": [
    "lag_window = w.partitionBy('id').orderBy('date')"
   ]
  },
  {
   "cell_type": "code",
   "execution_count": null,
   "id": "14836151-ab6a-4777-8b5d-8f2a56bd2f50",
   "metadata": {},
   "outputs": [],
   "source": [
    "for days in lags:\n",
    "    df = df.withColumn(f'sales_lag_{days}', f.lag('sales', days).over(lag_window))\n",
    "    # df[f'lag_{days}'] = df.groupby('id')['sales'].shift(days)"
   ]
  },
  {
   "cell_type": "markdown",
   "id": "7b214233-01d6-499f-82ee-a1ce3395da69",
   "metadata": {},
   "source": [
    "### Create rolling metrics"
   ]
  },
  {
   "cell_type": "code",
   "execution_count": null,
   "id": "551291a9-8f9c-4b17-afbf-c8d1ec25d915",
   "metadata": {},
   "outputs": [],
   "source": [
    "for days in windows:\n",
    "    df = df.withColumn(f'sales_lag_sum_{days}', f.sum('sales').over(lag_window.rowsBetween(-31, -1)))\n",
    "    df = df.withColumn(f'sales_lag_mean_{days}', f.mean('sales').over(lag_window.rowsBetween(-31, -1)))\n",
    "    # df[f'lag_sum_{days}'] = df.groupby('id').rolling(days).sum()\n",
    "    # df[f'lag_mean_{days}'] = df.groupby('id').rolling(days).mean()"
   ]
  },
  {
   "cell_type": "code",
   "execution_count": null,
   "id": "90bc7934-03e5-4e1e-8ba2-92a3ba4c7cc8",
   "metadata": {},
   "outputs": [],
   "source": [
    "df.filter(f.col('id') == 'FOODS_1_002_CA_3_validation').toPandas().to_csv('sample.csv', index=False)"
   ]
  },
  {
   "cell_type": "code",
   "execution_count": null,
   "id": "169d4718-91af-4a24-ae8f-852a6af7a03a",
   "metadata": {},
   "outputs": [],
   "source": [
    "df = df.select(output_cols)"
   ]
  },
  {
   "cell_type": "code",
   "execution_count": null,
   "id": "b2745838-066a-42ab-9418-cf5caae62814",
   "metadata": {},
   "outputs": [],
   "source": [
    "for col, dtype in df.dtypes:\n",
    "    if dtype == 'double':\n",
    "        df = df.withColumn(col, f.col(col).cast('float'))"
   ]
  },
  {
   "cell_type": "code",
   "execution_count": null,
   "id": "83f5ad10-4c06-4980-9077-5b8c793a4659",
   "metadata": {},
   "outputs": [],
   "source": [
    "df.write.mode('overwrite').parquet('data_preprocessed')"
   ]
  },
  {
   "cell_type": "code",
   "execution_count": null,
   "id": "7a270df3-9c71-430e-964b-fe6e48fde113",
   "metadata": {},
   "outputs": [],
   "source": [
    "df.select(f.min('date'), f.max('date')).show()"
   ]
  },
  {
   "cell_type": "code",
   "execution_count": null,
   "id": "5e883970-cd47-41ab-8494-60f2a9a1a355",
   "metadata": {},
   "outputs": [],
   "source": [
    "df.limit(5).toPandas()"
   ]
  },
  {
   "cell_type": "markdown",
   "id": "f7d1f519-724e-46db-bd41-a1b5b4c55adf",
   "metadata": {},
   "source": [
    "## Training"
   ]
  },
  {
   "cell_type": "code",
   "execution_count": null,
   "id": "9a5fc92f-27bb-4aa3-94bf-94502c09eb71",
   "metadata": {},
   "outputs": [],
   "source": [
    "import lightgbm as lgbm\n",
    "from sklearn.linear_model import LinearRegression\n",
    "import pandas as pd\n",
    "import numpy as np"
   ]
  },
  {
   "cell_type": "code",
   "execution_count": null,
   "id": "5c823fe2-6fc8-4c4e-a6ca-08c6d8d28a0a",
   "metadata": {},
   "outputs": [],
   "source": [
    "df = pd.read_parquet('data_preprocessed')"
   ]
  },
  {
   "cell_type": "code",
   "execution_count": null,
   "id": "e640bb88-0d3f-4e00-8d74-96d162e94ebd",
   "metadata": {},
   "outputs": [],
   "source": [
    "for col, dtype in df.dtypes.reset_index().to_numpy():\n",
    "    if dtype == 'float64':\n",
    "        df[col] = df[col].astype('float32')"
   ]
  },
  {
   "cell_type": "code",
   "execution_count": null,
   "id": "daf29f99-7a1c-485d-b398-a4b9f106a5bb",
   "metadata": {},
   "outputs": [],
   "source": [
    "df_train = df[df['date'] < '2015-01-01']\n",
    "df_test = df[df['date'] >= '2015-01-01']"
   ]
  },
  {
   "cell_type": "code",
   "execution_count": null,
   "id": "e75bc640-a1d8-4c71-ab26-45f38bfdbe55",
   "metadata": {},
   "outputs": [],
   "source": [
    "x_train = df_train[features]\n",
    "y_train = df_train[target]"
   ]
  },
  {
   "cell_type": "code",
   "execution_count": null,
   "id": "ce362559-421d-469f-a844-d368ae7d1a5b",
   "metadata": {},
   "outputs": [],
   "source": [
    "x_test = df_test[features]\n",
    "y_test = df_test[target]"
   ]
  },
  {
   "cell_type": "markdown",
   "id": "5ab20b7e-e1c4-4563-9914-7307c9fdf414",
   "metadata": {},
   "source": [
    "#### LGBM"
   ]
  },
  {
   "cell_type": "code",
   "execution_count": null,
   "id": "cfc9f16a-b540-479d-9d18-a4f37317efb3",
   "metadata": {},
   "outputs": [],
   "source": [
    "params = {\n",
    "    'boosting_type': 'gbdt',\n",
    "    'objective': 'regression',\n",
    "    'metric': 'mse',\n",
    "    'num_iterations': 100,\n",
    "    'verbose': -1\n",
    "}\n",
    "\n",
    "model = lgbm.LGBMRegressor(**params)"
   ]
  },
  {
   "cell_type": "code",
   "execution_count": null,
   "id": "4acaf322-e26c-4544-8382-052d8d258f0c",
   "metadata": {},
   "outputs": [],
   "source": [
    "best = model.fit(x_train, y_train, categorical_feature=categorical_features + indexed_features, feature_name=features)"
   ]
  },
  {
   "cell_type": "code",
   "execution_count": null,
   "id": "3fd80721-895f-4704-a28c-a8d4660c1cc9",
   "metadata": {},
   "outputs": [],
   "source": [
    "model.fitted_"
   ]
  },
  {
   "cell_type": "code",
   "execution_count": null,
   "id": "281d824a-9c40-4b04-a7bb-27a6e9153950",
   "metadata": {},
   "outputs": [],
   "source": [
    "best.booster_.save_model('model.txt')"
   ]
  },
  {
   "cell_type": "markdown",
   "id": "7dd8a5ee-44d5-4495-af94-5a31d82fc403",
   "metadata": {},
   "source": [
    "#### Linear Regression"
   ]
  },
  {
   "cell_type": "code",
   "execution_count": null,
   "id": "0db8181e-93af-4d6f-9f90-6abab7026232",
   "metadata": {},
   "outputs": [],
   "source": [
    "lr = LinearRegression()"
   ]
  },
  {
   "cell_type": "code",
   "execution_count": null,
   "id": "597e57da-b44e-4b7c-a316-2fbc6eaf7975",
   "metadata": {},
   "outputs": [],
   "source": [
    "lr.fit(x_train.fillna(0), y_train)"
   ]
  },
  {
   "cell_type": "code",
   "execution_count": null,
   "id": "3d14bf9e-9511-4e33-b866-b15edd9b361a",
   "metadata": {},
   "outputs": [],
   "source": [
    "lr.coef_"
   ]
  },
  {
   "cell_type": "code",
   "execution_count": null,
   "id": "f90bb60a-22b2-45af-8916-46bd2269fff7",
   "metadata": {},
   "outputs": [],
   "source": [
    "lr.intercept_"
   ]
  },
  {
   "cell_type": "markdown",
   "id": "ea342a8a-c096-463a-9e94-a76acf08a70d",
   "metadata": {},
   "source": [
    "### Results"
   ]
  },
  {
   "cell_type": "code",
   "execution_count": null,
   "id": "58fe9ac3-3b65-42f6-a8ad-2a2e4711a948",
   "metadata": {},
   "outputs": [],
   "source": [
    "from sklearn.metrics import mean_squared_error as mse"
   ]
  },
  {
   "cell_type": "code",
   "execution_count": null,
   "id": "8bd50c61-0d0e-4f74-857e-f7713e2b532f",
   "metadata": {},
   "outputs": [],
   "source": [
    "shape = (len(y_test), )"
   ]
  },
  {
   "cell_type": "code",
   "execution_count": null,
   "id": "2666334e-3b45-46bc-8b20-5f4213e70dcd",
   "metadata": {},
   "outputs": [],
   "source": [
    "y_pred = best.predict(x_test).reshape(shape)\n",
    "y_pred_rounded = y_pred.round()"
   ]
  },
  {
   "cell_type": "code",
   "execution_count": null,
   "id": "0b372f49-1271-49d9-833d-8eb05d0bb2e8",
   "metadata": {},
   "outputs": [],
   "source": [
    "y_pred_lr = lr.predict(x_test.fillna(0)).reshape(shape)\n",
    "y_pred_rounded_lr = y_pred_lr.round()"
   ]
  },
  {
   "cell_type": "code",
   "execution_count": null,
   "id": "ccad8aa7-822e-4e51-981f-9a3e14c67ecd",
   "metadata": {},
   "outputs": [],
   "source": [
    "y_true = y_test.to_numpy().reshape(shape)"
   ]
  },
  {
   "cell_type": "code",
   "execution_count": null,
   "id": "404cefa5-3a8f-483c-a4f6-c8dfcece804a",
   "metadata": {},
   "outputs": [],
   "source": [
    "y_dummy_lag_1 = np.array(df_test['sales_lag_1'].fillna(0)).reshape(shape)"
   ]
  },
  {
   "cell_type": "code",
   "execution_count": null,
   "id": "bcb8de82-bc4c-4bfc-93c5-9ec6ebe12bec",
   "metadata": {},
   "outputs": [],
   "source": [
    "y_pred"
   ]
  },
  {
   "cell_type": "code",
   "execution_count": null,
   "id": "aa30d8a8-3a3d-4ee6-8b4e-ccc33535f7eb",
   "metadata": {},
   "outputs": [],
   "source": [
    "y_pred_lr"
   ]
  },
  {
   "cell_type": "code",
   "execution_count": null,
   "id": "d0032327-01a7-49ce-b582-ce657caf31ec",
   "metadata": {},
   "outputs": [],
   "source": [
    "y_true"
   ]
  },
  {
   "cell_type": "code",
   "execution_count": null,
   "id": "08ff53b6-de50-404d-b662-b761318e4d80",
   "metadata": {},
   "outputs": [],
   "source": [
    "y_dummy_lag_1"
   ]
  },
  {
   "cell_type": "code",
   "execution_count": null,
   "id": "dee96622-d188-43ba-8e72-00b08eb26e9a",
   "metadata": {},
   "outputs": [],
   "source": [
    "def wape(y_true, y_pred):\n",
    "    y_t = np.array(y_true)\n",
    "    y_p = np.array(y_pred)\n",
    "    return np.sum(np.abs(y_t - y_p)) / np.sum(y_t)"
   ]
  },
  {
   "cell_type": "code",
   "execution_count": null,
   "id": "dcb059b5-698f-4218-8e8e-959c51a903b0",
   "metadata": {},
   "outputs": [],
   "source": [
    "def wpe(y_true, y_pred):\n",
    "    y_t = np.array(y_true)\n",
    "    y_p = np.array(y_pred)\n",
    "    return np.sum(y_t - y_p) / np.sum(y_t)"
   ]
  },
  {
   "cell_type": "code",
   "execution_count": null,
   "id": "2a7f9b34-a634-4eaf-a08e-c6cd199b5315",
   "metadata": {},
   "outputs": [],
   "source": [
    "def get_results(y_true, y_pred, precision=3):\n",
    "    res = {\n",
    "        'mse': round(mse(y_true, y_pred), precision),\n",
    "        'wape': round(wape(y_true, y_pred), precision),\n",
    "        'wpe': round(wpe(y_true, y_pred), precision)\n",
    "    }\n",
    "    \n",
    "    return res"
   ]
  },
  {
   "cell_type": "code",
   "execution_count": null,
   "id": "5e4d4236-2a9c-44da-8e18-763a402ab1e5",
   "metadata": {},
   "outputs": [],
   "source": [
    "results = [\n",
    "    {\n",
    "        'Decimal': get_results(y_true, y_pred),\n",
    "        'Arredondado': get_results(y_true, y_pred_rounded)\n",
    "    }\n",
    "]"
   ]
  },
  {
   "cell_type": "code",
   "execution_count": null,
   "id": "a2bd166e-8547-4dd7-8fce-686d43894d5d",
   "metadata": {},
   "outputs": [],
   "source": [
    "get_results(y_true, y_pred)"
   ]
  },
  {
   "cell_type": "code",
   "execution_count": null,
   "id": "aca3ef24-ad3b-4af3-a2ca-4c774d7ed822",
   "metadata": {},
   "outputs": [],
   "source": [
    "get_results(y_true, y_pred_rounded)"
   ]
  },
  {
   "cell_type": "code",
   "execution_count": null,
   "id": "819f094b-f411-4317-9fb7-3e43828e4ebf",
   "metadata": {},
   "outputs": [],
   "source": [
    "get_results(y_true, y_pred_lr)"
   ]
  },
  {
   "cell_type": "code",
   "execution_count": null,
   "id": "2de379c0-4c97-45a6-9e7f-8207cd88a106",
   "metadata": {},
   "outputs": [],
   "source": [
    "get_results(y_true, y_pred_rounded_lr)"
   ]
  },
  {
   "cell_type": "code",
   "execution_count": null,
   "id": "1f84fdbc-72b5-4f40-be97-ef292a897d0b",
   "metadata": {},
   "outputs": [],
   "source": [
    "get_results(y_true, y_dummy_lag_1)"
   ]
  },
  {
   "cell_type": "code",
   "execution_count": null,
   "id": "8a72dfca-9022-4d81-a91e-a5e97ca56a66",
   "metadata": {},
   "outputs": [],
   "source": [
    "latex_out = pd.read_excel('results.xlsx', header=[0,1], index_col=0).to_latex()"
   ]
  },
  {
   "cell_type": "markdown",
   "id": "42666596-5b8c-4f59-9305-1a22c7e909b7",
   "metadata": {},
   "source": [
    "#### Feature Importances"
   ]
  },
  {
   "cell_type": "code",
   "execution_count": null,
   "id": "d2b50325-81fb-4066-bf55-bae7cea332d0",
   "metadata": {},
   "outputs": [],
   "source": [
    "best = lgbm.Booster(model_file='model.txt')"
   ]
  },
  {
   "cell_type": "code",
   "execution_count": null,
   "id": "87e28eab-ccc5-481b-b8a8-062300b82f27",
   "metadata": {},
   "outputs": [],
   "source": [
    "lgbm.plot_importance(best, height=0.3, grid=False, figsize=(10, 6))"
   ]
  }
 ],
 "metadata": {
  "kernelspec": {
   "display_name": "Python 3",
   "language": "python",
   "name": "python3"
  },
  "language_info": {
   "codemirror_mode": {
    "name": "ipython",
    "version": 3
   },
   "file_extension": ".py",
   "mimetype": "text/x-python",
   "name": "python",
   "nbconvert_exporter": "python",
   "pygments_lexer": "ipython3",
   "version": "3.8.12"
  }
 },
 "nbformat": 4,
 "nbformat_minor": 5
}
